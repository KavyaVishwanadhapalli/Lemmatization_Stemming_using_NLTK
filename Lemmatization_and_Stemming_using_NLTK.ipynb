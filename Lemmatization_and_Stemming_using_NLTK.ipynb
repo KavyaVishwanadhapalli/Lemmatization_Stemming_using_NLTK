{
  "nbformat": 4,
  "nbformat_minor": 0,
  "metadata": {
    "colab": {
      "provenance": [],
      "authorship_tag": "ABX9TyOtOUhh8ObzuXqUiU9d8bDs",
      "include_colab_link": true
    },
    "kernelspec": {
      "name": "python3",
      "display_name": "Python 3"
    },
    "language_info": {
      "name": "python"
    }
  },
  "cells": [
    {
      "cell_type": "markdown",
      "metadata": {
        "id": "view-in-github",
        "colab_type": "text"
      },
      "source": [
        "<a href=\"https://colab.research.google.com/github/KavyaVishwanadhapalli/Lemmatization_Stemming_using_NLTK/blob/main/Lemmatization_and_Stemming_using_NLTK.ipynb\" target=\"_parent\"><img src=\"https://colab.research.google.com/assets/colab-badge.svg\" alt=\"Open In Colab\"/></a>"
      ]
    },
    {
      "cell_type": "code",
      "source": [
        "#Lemmatization and stemming using python library nltk\n",
        "\n",
        "import nltk\n",
        "from nltk.stem import WordNetLemmatizer, PorterStemmer\n",
        "nltk.download('punkt_tab')\n",
        "nltk.download('punkt')\n",
        "nltk.download('wordnet')"
      ],
      "metadata": {
        "colab": {
          "base_uri": "https://localhost:8080/"
        },
        "id": "OWvqERk55GBu",
        "outputId": "e888094d-6a07-4e03-ffcb-55a04190a1c8"
      },
      "execution_count": 1,
      "outputs": [
        {
          "output_type": "stream",
          "name": "stderr",
          "text": [
            "[nltk_data] Downloading package punkt_tab to /root/nltk_data...\n",
            "[nltk_data]   Unzipping tokenizers/punkt_tab.zip.\n",
            "[nltk_data] Downloading package punkt to /root/nltk_data...\n",
            "[nltk_data]   Unzipping tokenizers/punkt.zip.\n",
            "[nltk_data] Downloading package wordnet to /root/nltk_data...\n"
          ]
        },
        {
          "output_type": "execute_result",
          "data": {
            "text/plain": [
              "True"
            ]
          },
          "metadata": {},
          "execution_count": 1
        }
      ]
    },
    {
      "cell_type": "code",
      "source": [
        "# Initialize lemmatizer and stemmer\n",
        "lemmatizer = WordNetLemmatizer()\n",
        "stemmer = PorterStemmer()"
      ],
      "metadata": {
        "id": "WF1DC5IY5GDz"
      },
      "execution_count": 2,
      "outputs": []
    },
    {
      "cell_type": "code",
      "source": [
        "# Example text\n",
        "text = \"The running cats are running quickly and beautifully.\""
      ],
      "metadata": {
        "id": "5B7GS2sG5GFp"
      },
      "execution_count": 3,
      "outputs": []
    },
    {
      "cell_type": "code",
      "source": [
        "# Tokenize the text\n",
        "tokens = nltk.word_tokenize(text)"
      ],
      "metadata": {
        "id": "wAOlv52M5GH4"
      },
      "execution_count": 4,
      "outputs": []
    },
    {
      "cell_type": "code",
      "source": [
        "# Lemmatization\n",
        "lemmatized_tokens = [lemmatizer.lemmatize(token) for token in tokens]"
      ],
      "metadata": {
        "id": "FWQvXUOz5GLE"
      },
      "execution_count": 5,
      "outputs": []
    },
    {
      "cell_type": "code",
      "source": [
        "# Stemming\n",
        "stemmed_tokens = [stemmer.stem(token) for token in tokens]"
      ],
      "metadata": {
        "id": "R5Rk4gbI5S6v"
      },
      "execution_count": 6,
      "outputs": []
    },
    {
      "cell_type": "code",
      "source": [
        "print(\"Original Tokens:\", tokens)\n",
        "print(\"Lemmatized Tokens:\", lemmatized_tokens)"
      ],
      "metadata": {
        "colab": {
          "base_uri": "https://localhost:8080/"
        },
        "id": "mxk-CQUP5S8O",
        "outputId": "4ddc0774-dfec-416f-e50d-42757f137a83"
      },
      "execution_count": 7,
      "outputs": [
        {
          "output_type": "stream",
          "name": "stdout",
          "text": [
            "Original Tokens: ['The', 'running', 'cats', 'are', 'running', 'quickly', 'and', 'beautifully', '.']\n",
            "Lemmatized Tokens: ['The', 'running', 'cat', 'are', 'running', 'quickly', 'and', 'beautifully', '.']\n"
          ]
        }
      ]
    },
    {
      "cell_type": "code",
      "source": [
        "print(\"Original Tokens:\", tokens)\n",
        "print(\"Stemmed Tokens:\", stemmed_tokens)"
      ],
      "metadata": {
        "colab": {
          "base_uri": "https://localhost:8080/"
        },
        "id": "u73lCxvA5S_c",
        "outputId": "bb951937-c999-487f-cc96-9efd54ce1ff5"
      },
      "execution_count": 8,
      "outputs": [
        {
          "output_type": "stream",
          "name": "stdout",
          "text": [
            "Original Tokens: ['The', 'running', 'cats', 'are', 'running', 'quickly', 'and', 'beautifully', '.']\n",
            "Stemmed Tokens: ['the', 'run', 'cat', 'are', 'run', 'quickli', 'and', 'beauti', '.']\n"
          ]
        }
      ]
    }
  ]
}